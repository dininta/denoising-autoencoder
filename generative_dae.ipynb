{
  "nbformat": 4,
  "nbformat_minor": 0,
  "metadata": {
    "colab": {
      "name": "generative-dae.ipynb",
      "provenance": []
    },
    "kernelspec": {
      "name": "python3",
      "display_name": "Python 3"
    },
    "language_info": {
      "name": "python"
    }
  },
  "cells": [
    {
      "cell_type": "markdown",
      "metadata": {
        "id": "phJPE--T3kap"
      },
      "source": [
        "# Import Libraries"
      ]
    },
    {
      "cell_type": "code",
      "metadata": {
        "id": "MLHy0d9f3eHb"
      },
      "source": [
        "import numpy as np\n",
        "import seaborn as sns\n",
        "\n",
        "from joblib import dump, load\n",
        "from keras import layers, utils\n",
        "from matplotlib import pyplot as plt\n",
        "from sklearn.manifold import TSNE\n",
        "from sklearn.model_selection import train_test_split\n",
        "from tensorflow.keras.datasets import mnist\n",
        "from tensorflow.keras.metrics import MeanSquaredError\n",
        "from tensorflow.keras.models import Sequential\n",
        "from tensorflow.keras.utils import to_categorical"
      ],
      "execution_count": null,
      "outputs": []
    },
    {
      "cell_type": "markdown",
      "metadata": {
        "id": "fkwTSQYF3uZr"
      },
      "source": [
        "# Functions"
      ]
    },
    {
      "cell_type": "code",
      "metadata": {
        "id": "buyCNH1-3_uh"
      },
      "source": [
        "def add_noise(data, noise_factor, scale=1.0):\n",
        "    data_noisy = data + noise_factor * np.random.normal(loc=0.0, scale=1.0, size=data.shape)\n",
        "    return data_noisy\n",
        "    #return np.clip(data_noisy, 0., 1.)"
      ],
      "execution_count": null,
      "outputs": []
    },
    {
      "cell_type": "code",
      "metadata": {
        "id": "5Hlufblx3sR5"
      },
      "source": [
        "def train_denoise_autoenc(autoencoder, epochs, noise_factor=0.3):\n",
        "    for i in range(epochs):\n",
        "        x_train_noisy = add_noise(x_train, noise_factor)\n",
        "        x_valid_noisy = add_noise(x_valid, noise_factor)\n",
        "\n",
        "        print(\"Epoch {}/{}\".format(i+1, epochs))\n",
        "        autoencoder.fit(x_train_noisy, x_train,\n",
        "                        epochs=1, batch_size=256, shuffle=True,\n",
        "                        validation_data=(x_valid_noisy, x_valid))"
      ],
      "execution_count": null,
      "outputs": []
    },
    {
      "cell_type": "code",
      "metadata": {
        "id": "S6IReOGE3ycN"
      },
      "source": [
        "def train_new_layer(encoder, model, epochs, noise_factor=0.3):\n",
        "    for i in range(epochs):\n",
        "        x_train_noisy = add_noise(x_train, noise_factor)\n",
        "        x_valid_noisy = add_noise(x_valid, noise_factor)\n",
        "\n",
        "        print(\"Epoch {}/{}\".format(i+1, epochs))\n",
        "\n",
        "        encoded_input = encoder(x_train_noisy)\n",
        "        encoded_valid = encoder(x_valid_noisy)\n",
        "        model.fit(encoded_input, encoded_input,\n",
        "                  epochs=1, batch_size=256, shuffle=True,\n",
        "                  validation_data=(encoded_valid, encoded_valid))"
      ],
      "execution_count": null,
      "outputs": []
    },
    {
      "cell_type": "code",
      "metadata": {
        "id": "TD2eAQOd30tK"
      },
      "source": [
        "def get_single_layer_autoencoder(encoding_dim, epochs=20, noise_factor=0.3):\n",
        "    # 784 --> encoding_dim --> 784\n",
        "    autoencoder = Sequential()\n",
        "    autoencoder.add(layers.Dense(encoding_dim, activation='sigmoid', input_shape=(28*28,)))\n",
        "    autoencoder.add(layers.Dense(28*28, activation='sigmoid'))\n",
        "    autoencoder.compile(optimizer='adam', loss='binary_crossentropy', metrics=[MeanSquaredError()])\n",
        "    train_denoise_autoenc(autoencoder, epochs, noise_factor)\n",
        "    return autoencoder"
      ],
      "execution_count": null,
      "outputs": []
    },
    {
      "cell_type": "code",
      "metadata": {
        "id": "LqCrFSKV32FD"
      },
      "source": [
        "def get_deep_autoencoder(encoding_dims, epochs=50, noise_factor=0.3):\n",
        "    base_model = get_single_layer_autoencoder(encoding_dims[0], epochs)\n",
        "    output_layers = list()\n",
        "\n",
        "    # Remove output layer and keep it\n",
        "    output_layers.append(base_model.layers[-1])\n",
        "    base_model.pop()\n",
        "\n",
        "    for i in range(1, len(encoding_dims)):\n",
        "        # Build another autoencoder\n",
        "        new_autoenc = Sequential()\n",
        "        new_autoenc.add(layers.Dense(encoding_dims[i], activation='sigmoid', input_shape=(encoding_dims[i-1],)))\n",
        "        new_autoenc.add(layers.Dense(encoding_dims[i-1], activation='sigmoid'))\n",
        "        new_autoenc.compile(optimizer='adam', loss='mse')\n",
        "\n",
        "        # Train the new autoencoder\n",
        "        print(\"\\nTraining layer: \", i+1)\n",
        "        train_new_layer(base_model, new_autoenc, epochs, noise_factor)\n",
        "\n",
        "        # Add the new encoder\n",
        "        base_model.add(new_autoenc.layers[0])\n",
        "\n",
        "        # Keep the output layer\n",
        "        output_layers.append(new_autoenc.layers[-1])\n",
        "\n",
        "    # Add all output layers\n",
        "    for i in range(len(output_layers)-1,-1,-1):\n",
        "        base_model.add(output_layers[i])\n",
        "\n",
        "    return base_model"
      ],
      "execution_count": null,
      "outputs": []
    },
    {
      "cell_type": "markdown",
      "metadata": {
        "id": "zuccKdCO4IOl"
      },
      "source": [
        "# Load Dataset"
      ]
    },
    {
      "cell_type": "code",
      "metadata": {
        "colab": {
          "base_uri": "https://localhost:8080/"
        },
        "id": "jl_1nslK4G-9",
        "outputId": "7d982a98-d66c-4b12-dfbe-82aa441c356d"
      },
      "source": [
        "(x_train, y_train), (x_test, y_test) = mnist.load_data()\n",
        "x_train, x_valid, y_train, y_valid = train_test_split(x_train, y_train, test_size=0.3, shuffle= True, random_state=0)\n",
        "\n",
        "# Scale data from [0,255] to [0,1] so we can work as if it's a binary output\n",
        "x_train = x_train.astype('float32') / 255.\n",
        "x_valid = x_valid.astype('float32') / 255.\n",
        "x_test = x_test.astype('float32') / 255.\n",
        "\n",
        "# Reshape each image from matrix to vector\n",
        "x_train = x_train.reshape((len(x_train), 28*28))\n",
        "x_valid = x_valid.reshape((len(x_valid), 28*28))\n",
        "x_test = x_test.reshape((len(x_test), 28*28))\n",
        "\n",
        "# Change label to one-hot encoding (will be used later for digit classifier)\n",
        "y_train_cat = to_categorical(y_train, 10)\n",
        "y_valid_cat = to_categorical(y_valid, 10)\n",
        "y_test_cat = to_categorical(y_test, 10)"
      ],
      "execution_count": null,
      "outputs": [
        {
          "output_type": "stream",
          "text": [
            "Downloading data from https://storage.googleapis.com/tensorflow/tf-keras-datasets/mnist.npz\n",
            "11493376/11490434 [==============================] - 0s 0us/step\n"
          ],
          "name": "stdout"
        }
      ]
    },
    {
      "cell_type": "markdown",
      "metadata": {
        "id": "WCnvN9gg3sjK"
      },
      "source": [
        "# Experiments"
      ]
    },
    {
      "cell_type": "code",
      "metadata": {
        "id": "f3eU3Srr3iYZ"
      },
      "source": [
        "deep_2 = get_deep_autoencoder([256, 32])"
      ],
      "execution_count": null,
      "outputs": []
    },
    {
      "cell_type": "code",
      "metadata": {
        "colab": {
          "base_uri": "https://localhost:8080/"
        },
        "id": "nqUz93Pv7pFc",
        "outputId": "ff153112-968e-4d97-a320-f50268e881cc"
      },
      "source": [
        "deep_2_clip = get_deep_autoencoder([256, 32])"
      ],
      "execution_count": null,
      "outputs": [
        {
          "output_type": "stream",
          "text": [
            "Epoch 1/50\n",
            "165/165 [==============================] - 4s 22ms/step - loss: 0.2717 - mean_squared_error: 0.0685 - val_loss: 0.2259 - val_mean_squared_error: 0.0529\n",
            "Epoch 2/50\n",
            "165/165 [==============================] - 4s 22ms/step - loss: 0.2031 - mean_squared_error: 0.0449 - val_loss: 0.1844 - val_mean_squared_error: 0.0387\n",
            "Epoch 3/50\n",
            "165/165 [==============================] - 4s 22ms/step - loss: 0.1720 - mean_squared_error: 0.0344 - val_loss: 0.1604 - val_mean_squared_error: 0.0305\n",
            "Epoch 4/50\n",
            "165/165 [==============================] - 4s 22ms/step - loss: 0.1520 - mean_squared_error: 0.0277 - val_loss: 0.1442 - val_mean_squared_error: 0.0252\n",
            "Epoch 5/50\n",
            "165/165 [==============================] - 4s 22ms/step - loss: 0.1382 - mean_squared_error: 0.0232 - val_loss: 0.1325 - val_mean_squared_error: 0.0214\n",
            "Epoch 6/50\n",
            "165/165 [==============================] - 4s 22ms/step - loss: 0.1281 - mean_squared_error: 0.0200 - val_loss: 0.1238 - val_mean_squared_error: 0.0187\n",
            "Epoch 7/50\n",
            "165/165 [==============================] - 4s 22ms/step - loss: 0.1204 - mean_squared_error: 0.0177 - val_loss: 0.1172 - val_mean_squared_error: 0.0167\n",
            "Epoch 8/50\n",
            "165/165 [==============================] - 4s 22ms/step - loss: 0.1145 - mean_squared_error: 0.0159 - val_loss: 0.1121 - val_mean_squared_error: 0.0152\n",
            "Epoch 9/50\n",
            "165/165 [==============================] - 4s 22ms/step - loss: 0.1099 - mean_squared_error: 0.0145 - val_loss: 0.1080 - val_mean_squared_error: 0.0140\n",
            "Epoch 10/50\n",
            "165/165 [==============================] - 4s 22ms/step - loss: 0.1062 - mean_squared_error: 0.0134 - val_loss: 0.1048 - val_mean_squared_error: 0.0130\n",
            "Epoch 11/50\n",
            "165/165 [==============================] - 4s 22ms/step - loss: 0.1033 - mean_squared_error: 0.0126 - val_loss: 0.1022 - val_mean_squared_error: 0.0123\n",
            "Epoch 12/50\n",
            "165/165 [==============================] - 4s 22ms/step - loss: 0.1009 - mean_squared_error: 0.0119 - val_loss: 0.0999 - val_mean_squared_error: 0.0116\n",
            "Epoch 13/50\n",
            "165/165 [==============================] - 4s 22ms/step - loss: 0.0988 - mean_squared_error: 0.0113 - val_loss: 0.0981 - val_mean_squared_error: 0.0111\n",
            "Epoch 14/50\n",
            "165/165 [==============================] - 4s 22ms/step - loss: 0.0971 - mean_squared_error: 0.0108 - val_loss: 0.0965 - val_mean_squared_error: 0.0107\n",
            "Epoch 15/50\n",
            "165/165 [==============================] - 4s 22ms/step - loss: 0.0956 - mean_squared_error: 0.0104 - val_loss: 0.0952 - val_mean_squared_error: 0.0103\n",
            "Epoch 16/50\n",
            "165/165 [==============================] - 4s 22ms/step - loss: 0.0944 - mean_squared_error: 0.0100 - val_loss: 0.0941 - val_mean_squared_error: 0.0099\n",
            "Epoch 17/50\n",
            "165/165 [==============================] - 4s 22ms/step - loss: 0.0933 - mean_squared_error: 0.0097 - val_loss: 0.0931 - val_mean_squared_error: 0.0096\n",
            "Epoch 18/50\n",
            "165/165 [==============================] - 4s 22ms/step - loss: 0.0924 - mean_squared_error: 0.0094 - val_loss: 0.0922 - val_mean_squared_error: 0.0094\n",
            "Epoch 19/50\n",
            "165/165 [==============================] - 4s 22ms/step - loss: 0.0915 - mean_squared_error: 0.0092 - val_loss: 0.0915 - val_mean_squared_error: 0.0092\n",
            "Epoch 20/50\n",
            "165/165 [==============================] - 4s 23ms/step - loss: 0.0907 - mean_squared_error: 0.0089 - val_loss: 0.0908 - val_mean_squared_error: 0.0090\n",
            "Epoch 21/50\n",
            "165/165 [==============================] - 4s 22ms/step - loss: 0.0901 - mean_squared_error: 0.0087 - val_loss: 0.0901 - val_mean_squared_error: 0.0088\n",
            "Epoch 22/50\n",
            "165/165 [==============================] - 4s 22ms/step - loss: 0.0895 - mean_squared_error: 0.0086 - val_loss: 0.0896 - val_mean_squared_error: 0.0086\n",
            "Epoch 23/50\n",
            "165/165 [==============================] - 4s 22ms/step - loss: 0.0890 - mean_squared_error: 0.0084 - val_loss: 0.0890 - val_mean_squared_error: 0.0084\n",
            "Epoch 24/50\n",
            "165/165 [==============================] - 4s 22ms/step - loss: 0.0885 - mean_squared_error: 0.0083 - val_loss: 0.0887 - val_mean_squared_error: 0.0083\n",
            "Epoch 25/50\n",
            "165/165 [==============================] - 4s 22ms/step - loss: 0.0881 - mean_squared_error: 0.0081 - val_loss: 0.0882 - val_mean_squared_error: 0.0082\n",
            "Epoch 26/50\n",
            "165/165 [==============================] - 4s 23ms/step - loss: 0.0877 - mean_squared_error: 0.0080 - val_loss: 0.0878 - val_mean_squared_error: 0.0081\n",
            "Epoch 27/50\n",
            "165/165 [==============================] - 4s 22ms/step - loss: 0.0873 - mean_squared_error: 0.0079 - val_loss: 0.0875 - val_mean_squared_error: 0.0080\n",
            "Epoch 28/50\n",
            "165/165 [==============================] - 4s 22ms/step - loss: 0.0870 - mean_squared_error: 0.0078 - val_loss: 0.0872 - val_mean_squared_error: 0.0079\n",
            "Epoch 29/50\n",
            "165/165 [==============================] - 4s 23ms/step - loss: 0.0867 - mean_squared_error: 0.0077 - val_loss: 0.0870 - val_mean_squared_error: 0.0078\n",
            "Epoch 30/50\n",
            "165/165 [==============================] - 4s 23ms/step - loss: 0.0864 - mean_squared_error: 0.0076 - val_loss: 0.0867 - val_mean_squared_error: 0.0077\n",
            "Epoch 31/50\n",
            "165/165 [==============================] - 4s 23ms/step - loss: 0.0861 - mean_squared_error: 0.0076 - val_loss: 0.0864 - val_mean_squared_error: 0.0077\n",
            "Epoch 32/50\n",
            "165/165 [==============================] - 4s 23ms/step - loss: 0.0859 - mean_squared_error: 0.0075 - val_loss: 0.0861 - val_mean_squared_error: 0.0076\n",
            "Epoch 33/50\n",
            "165/165 [==============================] - 4s 23ms/step - loss: 0.0857 - mean_squared_error: 0.0074 - val_loss: 0.0859 - val_mean_squared_error: 0.0075\n",
            "Epoch 34/50\n",
            "165/165 [==============================] - 4s 22ms/step - loss: 0.0854 - mean_squared_error: 0.0074 - val_loss: 0.0858 - val_mean_squared_error: 0.0075\n",
            "Epoch 35/50\n",
            "165/165 [==============================] - 4s 22ms/step - loss: 0.0853 - mean_squared_error: 0.0073 - val_loss: 0.0856 - val_mean_squared_error: 0.0074\n",
            "Epoch 36/50\n",
            "165/165 [==============================] - 4s 22ms/step - loss: 0.0850 - mean_squared_error: 0.0072 - val_loss: 0.0854 - val_mean_squared_error: 0.0073\n",
            "Epoch 37/50\n",
            "165/165 [==============================] - 4s 23ms/step - loss: 0.0849 - mean_squared_error: 0.0072 - val_loss: 0.0853 - val_mean_squared_error: 0.0073\n",
            "Epoch 38/50\n",
            "165/165 [==============================] - 4s 23ms/step - loss: 0.0848 - mean_squared_error: 0.0072 - val_loss: 0.0851 - val_mean_squared_error: 0.0072\n",
            "Epoch 39/50\n",
            "165/165 [==============================] - 4s 22ms/step - loss: 0.0846 - mean_squared_error: 0.0071 - val_loss: 0.0850 - val_mean_squared_error: 0.0072\n",
            "Epoch 40/50\n",
            "165/165 [==============================] - 4s 22ms/step - loss: 0.0844 - mean_squared_error: 0.0071 - val_loss: 0.0848 - val_mean_squared_error: 0.0072\n",
            "Epoch 41/50\n",
            "165/165 [==============================] - 4s 22ms/step - loss: 0.0843 - mean_squared_error: 0.0070 - val_loss: 0.0847 - val_mean_squared_error: 0.0071\n",
            "Epoch 42/50\n",
            "165/165 [==============================] - 4s 22ms/step - loss: 0.0842 - mean_squared_error: 0.0070 - val_loss: 0.0847 - val_mean_squared_error: 0.0072\n",
            "Epoch 43/50\n",
            "165/165 [==============================] - 4s 23ms/step - loss: 0.0841 - mean_squared_error: 0.0070 - val_loss: 0.0845 - val_mean_squared_error: 0.0071\n",
            "Epoch 44/50\n",
            "165/165 [==============================] - 4s 22ms/step - loss: 0.0840 - mean_squared_error: 0.0069 - val_loss: 0.0844 - val_mean_squared_error: 0.0070\n",
            "Epoch 45/50\n",
            "165/165 [==============================] - 4s 23ms/step - loss: 0.0839 - mean_squared_error: 0.0069 - val_loss: 0.0843 - val_mean_squared_error: 0.0070\n",
            "Epoch 46/50\n",
            "165/165 [==============================] - 4s 23ms/step - loss: 0.0837 - mean_squared_error: 0.0069 - val_loss: 0.0842 - val_mean_squared_error: 0.0070\n",
            "Epoch 47/50\n",
            "165/165 [==============================] - 4s 22ms/step - loss: 0.0837 - mean_squared_error: 0.0068 - val_loss: 0.0841 - val_mean_squared_error: 0.0070\n",
            "Epoch 48/50\n",
            "165/165 [==============================] - 4s 22ms/step - loss: 0.0836 - mean_squared_error: 0.0068 - val_loss: 0.0841 - val_mean_squared_error: 0.0070\n",
            "Epoch 49/50\n",
            "165/165 [==============================] - 4s 23ms/step - loss: 0.0835 - mean_squared_error: 0.0068 - val_loss: 0.0839 - val_mean_squared_error: 0.0069\n",
            "Epoch 50/50\n",
            "165/165 [==============================] - 4s 22ms/step - loss: 0.0834 - mean_squared_error: 0.0067 - val_loss: 0.0838 - val_mean_squared_error: 0.0069\n",
            "\n",
            "Training layer:  2\n",
            "Epoch 1/50\n",
            "165/165 [==============================] - 1s 5ms/step - loss: 0.0888 - val_loss: 0.0825\n",
            "Epoch 2/50\n",
            "165/165 [==============================] - 1s 4ms/step - loss: 0.0780 - val_loss: 0.0726\n",
            "Epoch 3/50\n",
            "165/165 [==============================] - 1s 4ms/step - loss: 0.0690 - val_loss: 0.0652\n",
            "Epoch 4/50\n",
            "165/165 [==============================] - 1s 4ms/step - loss: 0.0628 - val_loss: 0.0600\n",
            "Epoch 5/50\n",
            "165/165 [==============================] - 1s 4ms/step - loss: 0.0583 - val_loss: 0.0561\n",
            "Epoch 6/50\n",
            "165/165 [==============================] - 1s 4ms/step - loss: 0.0548 - val_loss: 0.0531\n",
            "Epoch 7/50\n",
            "165/165 [==============================] - 1s 4ms/step - loss: 0.0520 - val_loss: 0.0506\n",
            "Epoch 8/50\n",
            "165/165 [==============================] - 1s 4ms/step - loss: 0.0498 - val_loss: 0.0487\n",
            "Epoch 9/50\n",
            "165/165 [==============================] - 1s 4ms/step - loss: 0.0480 - val_loss: 0.0471\n",
            "Epoch 10/50\n",
            "165/165 [==============================] - 1s 5ms/step - loss: 0.0465 - val_loss: 0.0456\n",
            "Epoch 11/50\n",
            "165/165 [==============================] - 1s 4ms/step - loss: 0.0452 - val_loss: 0.0442\n",
            "Epoch 12/50\n",
            "165/165 [==============================] - 1s 4ms/step - loss: 0.0438 - val_loss: 0.0430\n",
            "Epoch 13/50\n",
            "165/165 [==============================] - 1s 4ms/step - loss: 0.0427 - val_loss: 0.0420\n",
            "Epoch 14/50\n",
            "165/165 [==============================] - 1s 5ms/step - loss: 0.0419 - val_loss: 0.0413\n",
            "Epoch 15/50\n",
            "165/165 [==============================] - 1s 5ms/step - loss: 0.0411 - val_loss: 0.0406\n",
            "Epoch 16/50\n",
            "165/165 [==============================] - 1s 5ms/step - loss: 0.0404 - val_loss: 0.0400\n",
            "Epoch 17/50\n",
            "165/165 [==============================] - 1s 4ms/step - loss: 0.0399 - val_loss: 0.0394\n",
            "Epoch 18/50\n",
            "165/165 [==============================] - 1s 4ms/step - loss: 0.0393 - val_loss: 0.0388\n",
            "Epoch 19/50\n",
            "165/165 [==============================] - 1s 5ms/step - loss: 0.0387 - val_loss: 0.0384\n",
            "Epoch 20/50\n",
            "165/165 [==============================] - 1s 5ms/step - loss: 0.0383 - val_loss: 0.0380\n",
            "Epoch 21/50\n",
            "165/165 [==============================] - 1s 5ms/step - loss: 0.0379 - val_loss: 0.0377\n",
            "Epoch 22/50\n",
            "165/165 [==============================] - 1s 4ms/step - loss: 0.0377 - val_loss: 0.0374\n",
            "Epoch 23/50\n",
            "165/165 [==============================] - 1s 4ms/step - loss: 0.0374 - val_loss: 0.0372\n",
            "Epoch 24/50\n",
            "165/165 [==============================] - 1s 4ms/step - loss: 0.0372 - val_loss: 0.0370\n",
            "Epoch 25/50\n",
            "165/165 [==============================] - 1s 4ms/step - loss: 0.0371 - val_loss: 0.0369\n",
            "Epoch 26/50\n",
            "165/165 [==============================] - 1s 5ms/step - loss: 0.0369 - val_loss: 0.0367\n",
            "Epoch 27/50\n",
            "165/165 [==============================] - 1s 4ms/step - loss: 0.0367 - val_loss: 0.0366\n",
            "Epoch 28/50\n",
            "165/165 [==============================] - 1s 5ms/step - loss: 0.0366 - val_loss: 0.0364\n",
            "Epoch 29/50\n",
            "165/165 [==============================] - 1s 4ms/step - loss: 0.0365 - val_loss: 0.0363\n",
            "Epoch 30/50\n",
            "165/165 [==============================] - 1s 4ms/step - loss: 0.0364 - val_loss: 0.0362\n",
            "Epoch 31/50\n",
            "165/165 [==============================] - 1s 4ms/step - loss: 0.0363 - val_loss: 0.0361\n",
            "Epoch 32/50\n",
            "165/165 [==============================] - 1s 4ms/step - loss: 0.0362 - val_loss: 0.0360\n",
            "Epoch 33/50\n",
            "165/165 [==============================] - 1s 5ms/step - loss: 0.0361 - val_loss: 0.0360\n",
            "Epoch 34/50\n",
            "165/165 [==============================] - 1s 4ms/step - loss: 0.0360 - val_loss: 0.0359\n",
            "Epoch 35/50\n",
            "165/165 [==============================] - 1s 4ms/step - loss: 0.0359 - val_loss: 0.0358\n",
            "Epoch 36/50\n",
            "165/165 [==============================] - 1s 4ms/step - loss: 0.0359 - val_loss: 0.0357\n",
            "Epoch 37/50\n",
            "165/165 [==============================] - 1s 4ms/step - loss: 0.0358 - val_loss: 0.0357\n",
            "Epoch 38/50\n",
            "165/165 [==============================] - 1s 5ms/step - loss: 0.0357 - val_loss: 0.0356\n",
            "Epoch 39/50\n",
            "165/165 [==============================] - 1s 5ms/step - loss: 0.0356 - val_loss: 0.0355\n",
            "Epoch 40/50\n",
            "165/165 [==============================] - 1s 4ms/step - loss: 0.0356 - val_loss: 0.0355\n",
            "Epoch 41/50\n",
            "165/165 [==============================] - 1s 5ms/step - loss: 0.0356 - val_loss: 0.0355\n",
            "Epoch 42/50\n",
            "165/165 [==============================] - 1s 4ms/step - loss: 0.0355 - val_loss: 0.0354\n",
            "Epoch 43/50\n",
            "165/165 [==============================] - 1s 4ms/step - loss: 0.0355 - val_loss: 0.0353\n",
            "Epoch 44/50\n",
            "165/165 [==============================] - 1s 4ms/step - loss: 0.0354 - val_loss: 0.0353\n",
            "Epoch 45/50\n",
            "165/165 [==============================] - 1s 4ms/step - loss: 0.0354 - val_loss: 0.0352\n",
            "Epoch 46/50\n",
            "165/165 [==============================] - 1s 5ms/step - loss: 0.0353 - val_loss: 0.0352\n",
            "Epoch 47/50\n",
            "165/165 [==============================] - 1s 4ms/step - loss: 0.0353 - val_loss: 0.0351\n",
            "Epoch 48/50\n",
            "165/165 [==============================] - 1s 4ms/step - loss: 0.0352 - val_loss: 0.0351\n",
            "Epoch 49/50\n",
            "165/165 [==============================] - 1s 5ms/step - loss: 0.0352 - val_loss: 0.0351\n",
            "Epoch 50/50\n",
            "165/165 [==============================] - 1s 4ms/step - loss: 0.0351 - val_loss: 0.0350\n"
          ],
          "name": "stdout"
        }
      ]
    },
    {
      "cell_type": "code",
      "metadata": {
        "id": "tnpS9m0I55v_"
      },
      "source": [
        "x_test_noisy = add_noise(x_test, 0.3)"
      ],
      "execution_count": null,
      "outputs": []
    },
    {
      "cell_type": "code",
      "metadata": {
        "colab": {
          "base_uri": "https://localhost:8080/",
          "height": 248
        },
        "id": "Q-Brz6G158fk",
        "outputId": "16343915-c359-4063-888f-ca49182004e6"
      },
      "source": [
        "num_img = 10\n",
        "start_idx = 0\n",
        "decoded_imgs = deep_2_clip(x_test_noisy)\n",
        "plt.figure(figsize=(20, 4))\n",
        "plt.gray()\n",
        "for i in range(num_img):\n",
        "    # Display original\n",
        "    ax = plt.subplot(2, num_img, i + 1)\n",
        "    plt.imshow(x_test_noisy[i+start_idx].reshape(28, 28))\n",
        "    ax.get_xaxis().set_visible(False)\n",
        "    ax.get_yaxis().set_visible(False)\n",
        "\n",
        "    # Display reconstruction\n",
        "    ax = plt.subplot(2, num_img, i + 1 + num_img)\n",
        "    decoded_img = decoded_imgs[i+start_idx].numpy()\n",
        "    plt.imshow(decoded_img.reshape(28, 28))\n",
        "    ax.get_xaxis().set_visible(False)\n",
        "    ax.get_yaxis().set_visible(False)\n",
        "plt.show()"
      ],
      "execution_count": null,
      "outputs": [
        {
          "output_type": "display_data",
          "data": {
            "image/png": "[encoded data removed]",
            "text/plain": [
              "<Figure size 1440x288 with 20 Axes>"
            ]
          },
          "metadata": {
            "tags": [],
            "needs_background": "light"
          }
        }
      ]
    },
    {
      "cell_type": "code",
      "metadata": {
        "id": "bW7N98wO6iyY"
      },
      "source": [
        "def energy_diff(model, x, x_star, n):\n",
        "    points = np.linspace(x, x_star, num=n)\n",
        "    model_out = model(points).numpy()\n",
        "    sum = np.sum(model_out, axis=0)\n",
        "    sum = (sum / n).reshape(1,784)\n",
        "    return np.dot(sum, x_star - x)[0]"
      ],
      "execution_count": null,
      "outputs": []
    },
    {
      "cell_type": "code",
      "metadata": {
        "id": "uQ_CftDl6oka"
      },
      "source": [
        "def acc_ratio(model, x, x_star, n):\n",
        "    e_diff = energy_diff(model, x, x_star, n)\n",
        "    return np.exp(e_diff * -1)"
      ],
      "execution_count": null,
      "outputs": []
    },
    {
      "cell_type": "code",
      "metadata": {
        "id": "05V3RzuT6qeH"
      },
      "source": [
        "def is_accept(model, x, x_star, n):\n",
        "    myu = np.random.uniform()\n",
        "    alpha = acc_ratio(model, x, x_star, n)\n",
        "    return myu <= alpha"
      ],
      "execution_count": null,
      "outputs": []
    },
    {
      "cell_type": "code",
      "metadata": {
        "colab": {
          "base_uri": "https://localhost:8080/",
          "height": 265
        },
        "id": "db6lnvFH6snQ",
        "outputId": "352d6d9d-7605-4239-8dce-3e9ab3986b9e"
      },
      "source": [
        "# Try feeding a random image\n",
        "plt.figure(figsize=(20, 4))\n",
        "x_init = np.random.normal(loc=0, scale=1, size=(1,28*28))\n",
        "plt.imshow(x_init.reshape(28, 28))\n",
        "plt.axis('off')"
      ],
      "execution_count": null,
      "outputs": [
        {
          "output_type": "execute_result",
          "data": {
            "text/plain": [
              "(-0.5, 27.5, 27.5, -0.5)"
            ]
          },
          "metadata": {
            "tags": []
          },
          "execution_count": 137
        },
        {
          "output_type": "display_data",
          "data": {
            "image/png": "[encoded data removed]",
            "text/plain": [
              "<Figure size 1440x288 with 1 Axes>"
            ]
          },
          "metadata": {
            "tags": [],
            "needs_background": "light"
          }
        }
      ]
    },
    {
      "cell_type": "code",
      "metadata": {
        "id": "2fHOCBk163Ie"
      },
      "source": [
        "n_iter = 50\n",
        "x = x_init\n",
        "all = list()\n",
        "acc = list()\n",
        "rjct = list()\n",
        "for i in range(n_iter):\n",
        "    x = deep_2_clip(x.reshape(1,784)).numpy()\n",
        "    x_star = deep_2_clip(add_noise(x, noise_factor=1)).numpy()\n",
        "    all.append(x_star)\n",
        "    if is_accept(deep_2_clip, x.reshape(784,), x_star.reshape(784,), n=10):\n",
        "        x = x_star\n",
        "        acc.append(x_star)\n",
        "    else:\n",
        "        rjct.append(x_star)"
      ],
      "execution_count": null,
      "outputs": []
    },
    {
      "cell_type": "code",
      "metadata": {
        "colab": {
          "base_uri": "https://localhost:8080/"
        },
        "id": "khUpAa_pH6rs",
        "outputId": "548b220b-a36c-4353-837d-491a1dc3c585"
      },
      "source": [
        "len(rjct)"
      ],
      "execution_count": null,
      "outputs": [
        {
          "output_type": "execute_result",
          "data": {
            "text/plain": [
              "5"
            ]
          },
          "metadata": {
            "tags": []
          },
          "execution_count": 162
        }
      ]
    },
    {
      "cell_type": "code",
      "metadata": {
        "colab": {
          "base_uri": "https://localhost:8080/",
          "height": 129
        },
        "id": "Rbi4KqG57IjG",
        "outputId": "6d90b46a-7892-4199-91f4-3d8384946752"
      },
      "source": [
        "plt.figure(figsize=(20, 4))\n",
        "for i in range(10):\n",
        "    ax = plt.subplot(1, 10, i + 1)\n",
        "    plt.imshow(all[i].reshape(28, 28))\n",
        "    ax.get_xaxis().set_visible(False)\n",
        "    ax.get_yaxis().set_visible(False)\n",
        "plt.show()"
      ],
      "execution_count": null,
      "outputs": [
        {
          "output_type": "display_data",
          "data": {
            "image/png": "[encoded data removed]",
            "text/plain": [
              "<Figure size 1440x288 with 10 Axes>"
            ]
          },
          "metadata": {
            "tags": [],
            "needs_background": "light"
          }
        }
      ]
    },
    {
      "cell_type": "code",
      "metadata": {
        "colab": {
          "base_uri": "https://localhost:8080/",
          "height": 227
        },
        "id": "8nsdk1R1I2TP",
        "outputId": "91219b76-bd20-48de-be1a-527e3d6cb6ef"
      },
      "source": [
        "plt.figure(figsize=(20, 4))\n",
        "for i in range(5):\n",
        "    ax = plt.subplot(1, 5, i + 1)\n",
        "    plt.imshow(rjct[i].reshape(28, 28))\n",
        "    ax.get_xaxis().set_visible(False)\n",
        "    ax.get_yaxis().set_visible(False)\n",
        "plt.show()"
      ],
      "execution_count": null,
      "outputs": [
        {
          "output_type": "display_data",
          "data": {
            "image/png": "[encoded data removed]",
            "text/plain": [
              "<Figure size 1440x288 with 5 Axes>"
            ]
          },
          "metadata": {
            "tags": [],
            "needs_background": "light"
          }
        }
      ]
    },
    {
      "cell_type": "code",
      "metadata": {
        "colab": {
          "base_uri": "https://localhost:8080/",
          "height": 170
        },
        "id": "ohQoW8ZtMCzh",
        "outputId": "1ceff0a9-7f5b-4120-e191-d8f6bd9045c0"
      },
      "source": [
        "plt.figure(figsize=(20, 4))\n",
        "for i in range(7):\n",
        "    ax = plt.subplot(1, 7, i + 1)\n",
        "    plt.imshow(acc[i].reshape(28, 28))\n",
        "    ax.get_xaxis().set_visible(False)\n",
        "    ax.get_yaxis().set_visible(False)\n",
        "plt.show()"
      ],
      "execution_count": null,
      "outputs": [
        {
          "output_type": "display_data",
          "data": {
            "image/png": "[encoded data removed]",
            "text/plain": [
              "<Figure size 1440x288 with 7 Axes>"
            ]
          },
          "metadata": {
            "tags": [],
            "needs_background": "light"
          }
        }
      ]
    },
    {
      "cell_type": "code",
      "metadata": {
        "colab": {
          "base_uri": "https://localhost:8080/",
          "height": 170
        },
        "id": "IubuXX61I_19",
        "outputId": "9ae41b95-d296-4151-f8a3-113a04ae9cda"
      },
      "source": [
        "plt.figure(figsize=(20, 4))\n",
        "idx=[4,14,20,21,22,25,26]\n",
        "for i in range(len(idx)):\n",
        "    ax = plt.subplot(1, len(idx), i + 1)\n",
        "    plt.imshow(result[idx[i]].reshape(28, 28))\n",
        "    ax.get_xaxis().set_visible(False)\n",
        "    ax.get_yaxis().set_visible(False)\n",
        "plt.show()"
      ],
      "execution_count": null,
      "outputs": [
        {
          "output_type": "display_data",
          "data": {
            "image/png": "[encoded data removed]",
            "text/plain": [
              "<Figure size 1440x288 with 7 Axes>"
            ]
          },
          "metadata": {
            "tags": [],
            "needs_background": "light"
          }
        }
      ]
    }
  ]
}